{
  "nbformat": 4,
  "nbformat_minor": 0,
  "metadata": {
    "colab": {
      "name": "sine.ipynb",
      "private_outputs": true,
      "provenance": [],
      "collapsed_sections": [],
      "authorship_tag": "ABX9TyPYBLfMi4HHUESoSTAMDGek",
      "include_colab_link": true
    },
    "kernelspec": {
      "name": "python3",
      "display_name": "Python 3"
    },
    "language_info": {
      "name": "python"
    }
  },
  "cells": [
    {
      "cell_type": "markdown",
      "metadata": {
        "id": "view-in-github",
        "colab_type": "text"
      },
      "source": [
        "<a href=\"https://colab.research.google.com/github/DongHee-Kwak/sine/blob/main/sine.ipynb\" target=\"_parent\"><img src=\"https://colab.research.google.com/assets/colab-badge.svg\" alt=\"Open In Colab\"/></a>"
      ]
    },
    {
      "cell_type": "code",
      "metadata": {
        "id": "bVCpj5EeqBt_"
      },
      "source": [
        "from google.colab import drive\n",
        "drive.mount('/content/drive')"
      ],
      "execution_count": null,
      "outputs": []
    },
    {
      "cell_type": "code",
      "metadata": {
        "id": "tRgV-VipqrLP"
      },
      "source": [
        "import pandas as pd\n",
        "import numpy as np\n",
        "import matplotlib.pyplot as plt\n",
        "\n",
        "data1 = pd.read_csv('/content/drive/MyDrive/SINE/sine1.csv')\n",
        "data1set = data1.values.astype(\"float32\")\n",
        "\n",
        "data2 = pd.read_csv('/content/drive/MyDrive/SINE/sine2.csv')\n",
        "data2set = data2.values.astype(\"float32\")\n",
        "\n",
        "print(data1)"
      ],
      "execution_count": null,
      "outputs": []
    },
    {
      "cell_type": "code",
      "metadata": {
        "id": "gKE73jS7rqBB"
      },
      "source": [
        "x1_data = data1set[:,0]\n",
        "y1_data = data1set[:,1]\n",
        "z1_data = data1set[:,2]"
      ],
      "execution_count": null,
      "outputs": []
    },
    {
      "cell_type": "code",
      "metadata": {
        "id": "Ip9gB684tz8e"
      },
      "source": [
        "def f1(t):\n",
        "    return x1_data\n",
        "def g1(t):\n",
        "    return y1_data\n",
        "def h1(t):\n",
        "    return z1_data\n",
        "\n",
        "t1 = np.arange(0.0, 73, 1)\n",
        "t2 = np.arange(0.0, 73, 1)\n",
        "t3 = np.arange(0.0, 73, 1)\n",
        "\n",
        "plt.plot(t1,f1(t1),t2,g1(t2),t3,h1(t3),'r-')\n",
        "\n",
        "plt.show()"
      ],
      "execution_count": null,
      "outputs": []
    },
    {
      "cell_type": "code",
      "metadata": {
        "id": "I0Y_GtyZxqaM"
      },
      "source": [
        "x2_data = data2set[:,0]\n",
        "y2_data = data2set[:,1]\n",
        "z2_data = data2set[:,2]"
      ],
      "execution_count": null,
      "outputs": []
    },
    {
      "cell_type": "code",
      "metadata": {
        "id": "BZmLQOjpyqXN"
      },
      "source": [
        "def f2(u):\n",
        "    return x2_data\n",
        "def g2(u):\n",
        "    return y2_data\n",
        "def h2(u):\n",
        "    return z2_data\n",
        "\n",
        "u1 = np.arange(0.0, 73, 1)\n",
        "u2 = np.arange(0.0, 73, 1)\n",
        "u3 = np.arange(0.0, 73, 1)\n",
        "\n",
        "plt.plot(u1,f2(u1),u2,g2(u2),u3,h2(u3),'r-')\n",
        "\n",
        "plt.show()"
      ],
      "execution_count": null,
      "outputs": []
    }
  ]
}